You have a Closing Disclosure document with the following sections on page 2:
1. Loan Costs
2. Services Borrower Did Not Shop For
3. Services Borrower Did Shop For
4. Total Loan Costs
5. Taxes and Other Government Fees
6. Prepaid Expenses
7. Initial Escrow Payment at Closing
8. Other Costs
9. Total Other Costs
10. Total Closing Costs

Please list all the values for each section in the format:
<Section Name>:
- Borrower Paid at Closing: <Value>
- Seller Paid at Closing: <Value>
- Borrower Paid before Closing: <Value>
- Seller Paid before Closing: <Value>